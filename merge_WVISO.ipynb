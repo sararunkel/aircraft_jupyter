{
 "cells": [
  {
   "cell_type": "code",
   "execution_count": 50,
   "metadata": {},
   "outputs": [],
   "source": [
    "import xarray as xr\n",
    "import numpy as np\n",
    "import datetime as dt\n",
    "import warnings\n",
    "#Ignore UserWarning from xarray\n",
    "warnings.filterwarnings(\"ignore\", category=UserWarning)\n"
   ]
  },
  {
   "cell_type": "code",
   "execution_count": 51,
   "metadata": {},
   "outputs": [],
   "source": [
    "flight = 'rf06'\n",
    "output_filename = '/scr/raf_data/CAESAR/CAESAR'+flight+'_merge.nc'"
   ]
  },
  {
   "cell_type": "code",
   "execution_count": 52,
   "metadata": {},
   "outputs": [],
   "source": [
    "ds = xr.open_dataset(f'/scr/raf_data/CAESAR/CAESAR{flight}.nc') ##Open the data file\n",
    "ds2 =xr.open_dataset(f'/scr/raf_data/CAESAR/CAESAR{flight}_WVISO.nc') ##Open the WVISO data file"
   ]
  },
  {
   "cell_type": "code",
   "execution_count": 54,
   "metadata": {},
   "outputs": [
    {
     "data": {
      "text/plain": [
       "'2024-03-12T00:00:00'"
      ]
     },
     "execution_count": 54,
     "metadata": {},
     "output_type": "execute_result"
    }
   ],
   "source": [
    "parsed_date = dt.datetime.strptime(ds.FlightDate, '%m/%d/%Y').strftime('%Y-%m-%dT00:00:00') ## Get the flight date to convert the time as seconds since midnight\n",
    "##Convert the time to seconds since midnight\n",
    "reference_date = np.datetime64(parsed_date)\n",
    "time_deltas = ds2.Time.astype('timedelta64[s]')\n",
    "datetime_values = reference_date + time_deltas\n",
    "ds2['Time'] = datetime_values"
   ]
  },
  {
   "cell_type": "code",
   "execution_count": 57,
   "metadata": {},
   "outputs": [],
   "source": [
    "#Match up the time of the two datasets\n",
    "ds2 = ds2.sel(Time =slice(ds.Time[0], ds.Time[-1]))"
   ]
  },
  {
   "cell_type": "code",
   "execution_count": 72,
   "metadata": {},
   "outputs": [],
   "source": [
    "#Replace the WVISO variables in the original dataset with the ones from the WVISO dataset\n",
    "for v in ds2.variables:\n",
    "    if v == 'Time':\n",
    "        continue\n",
    "    ds[v].values = ds2[v].values ##Only replace the values -- keep attributes from original dataset\n",
    "    if 'actual_range' in ds[v].attrs:\n",
    "        minim = ds[v].min().values\n",
    "        maxim = ds[v].max().values\n",
    "        ds[v].attrs['actual_range'] =np.array([minim,maxim],dtype='float32') ##Update the actual range attribute"
   ]
  },
  {
   "cell_type": "code",
   "execution_count": 12,
   "metadata": {},
   "outputs": [],
   "source": [
    "ds.to_netcdf(output_filename) ##Save the merged dataset"
   ]
  }
 ],
 "metadata": {
  "kernelspec": {
   "display_name": "qatools_env",
   "language": "python",
   "name": "python3"
  },
  "language_info": {
   "codemirror_mode": {
    "name": "ipython",
    "version": 3
   },
   "file_extension": ".py",
   "mimetype": "text/x-python",
   "name": "python",
   "nbconvert_exporter": "python",
   "pygments_lexer": "ipython3",
   "version": "3.12.4"
  }
 },
 "nbformat": 4,
 "nbformat_minor": 2
}
